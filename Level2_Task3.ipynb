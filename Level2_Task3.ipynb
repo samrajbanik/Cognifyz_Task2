{
 "cells": [
  {
   "cell_type": "code",
   "execution_count": 19,
   "id": "5480328b-63ea-489e-8f71-3f3f84bd2e8d",
   "metadata": {},
   "outputs": [],
   "source": [
    "import pandas as pd"
   ]
  },
  {
   "cell_type": "code",
   "execution_count": 21,
   "id": "f91e80de-f722-4064-bf45-5263a6a3f577",
   "metadata": {},
   "outputs": [],
   "source": [
    "data=pd.read_csv(\"C:/Users/SAMRAJ/Downloads/Cognifyz Dataset.csv\")"
   ]
  },
  {
   "cell_type": "code",
   "execution_count": 23,
   "id": "7cdc412f-e48c-4507-9e50-4497b0c08f6a",
   "metadata": {},
   "outputs": [
    {
     "data": {
      "text/plain": [
       "Index(['Restaurant ID', 'Restaurant Name', 'Country Code', 'City', 'Address',\n",
       "       'Locality', 'Locality Verbose', 'Longitude', 'Latitude', 'Cuisines',\n",
       "       'Average Cost for two', 'Currency', 'Has Table booking',\n",
       "       'Has Online delivery', 'Is delivering now', 'Switch to order menu',\n",
       "       'Price range', 'Aggregate rating', 'Rating color', 'Rating text',\n",
       "       'Votes'],\n",
       "      dtype='object')"
      ]
     },
     "execution_count": 23,
     "metadata": {},
     "output_type": "execute_result"
    }
   ],
   "source": [
    "data.columns"
   ]
  },
  {
   "cell_type": "code",
   "execution_count": 27,
   "id": "cf4f4fe4-5d8c-44d0-8362-ea51e53fdcae",
   "metadata": {},
   "outputs": [],
   "source": [
    "import folium\n",
    "from folium.plugins import MarkerCluster\n",
    "\n",
    "def plot_restaurants(df):\n",
    "  \"\"\"\n",
    "  Plots the locations of restaurants on a map using longitude and latitude coordinates.\n",
    "  Identifies any patterns or clusters of restaurants in specific areas.\n",
    "\n",
    "  Args:\n",
    "    df (pd.DataFrame): The input DataFrame containing restaurant data.\n",
    "\n",
    "  Returns:\n",
    "    None\n",
    "  \"\"\"\n",
    "\n",
    "  # Create a map centered on the average latitude and longitude\n",
    "  map = folium.Map(location=[df['Latitude'].mean(), df['Longitude'].mean()], zoom_start=10)\n",
    "\n",
    "  # Add a marker cluster layer\n",
    "  marker_cluster = MarkerCluster().add_to(map)\n",
    "\n",
    "  # Add markers for each restaurant\n",
    "  for index, row in df.iterrows():\n",
    "    folium.Marker([row['Latitude'], row['Longitude']], popup=row['Restaurant Name']).add_to(marker_cluster)\n",
    "\n",
    "\n",
    "  # Display the map\n",
    "  map.save('restaurants.html')\n",
    "\n",
    "if __name__ == \"__main__\":\n",
    "  df = pd.read_csv(\"C:/Users/SAMRAJ/Downloads/Cognifyz Dataset.csv\")\n",
    "  plot_restaurants(df)"
   ]
  },
  {
   "cell_type": "code",
   "execution_count": 29,
   "id": "14b32275-264d-49c1-b942-097deb124631",
   "metadata": {},
   "outputs": [],
   "source": [
    "from sklearn.cluster import KMeans\n",
    "from sklearn.preprocessing import StandardScaler\n",
    "\n",
    "\n",
    "\n",
    "# Prepare the data for clustering\n",
    "X = df[['Latitude', 'Longitude']]\n",
    "scaler = StandardScaler()\n",
    "X_scaled = scaler.fit_transform(X)\n",
    "\n",
    "# Perform K-Means clustering\n",
    "num_clusters = 5  # You can adjust the number of clusters as needed\n",
    "kmeans = KMeans(n_clusters=num_clusters, random_state=0)\n",
    "df['cluster'] = kmeans.fit_predict(X_scaled)\n",
    "\n",
    "# Create a map centered at the mean latitude and longitude\n",
    "center_lat = df['Latitude'].mean()\n",
    "center_lng = df['Longitude'].mean()\n",
    "m = folium.Map(location=[center_lat, center_lng], zoom_start=10)\n",
    "\n",
    "# Assign different colors for each cluster\n",
    "cluster_colors = ['red', 'blue', 'green', 'purple', 'orange']\n",
    "\n",
    "# Add markers for each restaurant with cluster color\n",
    "for index, row in df.iterrows():\n",
    "    folium.Marker([row['Latitude'], row['Longitude']],\n",
    "                  popup=row['Restaurant Name'],\n",
    "                  icon=folium.Icon(color=cluster_colors[row['cluster']])).add_to(m)\n",
    "\n",
    "# Save the map to an HTML file\n",
    "m.save('clustered_restaurant_map.html')"
   ]
  },
  {
   "cell_type": "code",
   "execution_count": null,
   "id": "93e812d5-a983-4c48-b6e2-bf11ec556a77",
   "metadata": {},
   "outputs": [],
   "source": []
  }
 ],
 "metadata": {
  "kernelspec": {
   "display_name": "Python 3 (ipykernel)",
   "language": "python",
   "name": "python3"
  },
  "language_info": {
   "codemirror_mode": {
    "name": "ipython",
    "version": 3
   },
   "file_extension": ".py",
   "mimetype": "text/x-python",
   "name": "python",
   "nbconvert_exporter": "python",
   "pygments_lexer": "ipython3",
   "version": "3.12.4"
  }
 },
 "nbformat": 4,
 "nbformat_minor": 5
}
