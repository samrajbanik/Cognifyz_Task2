{
 "cells": [
  {
   "cell_type": "code",
   "execution_count": 15,
   "id": "ffdd31b3-7a5e-4452-b5d4-af6843b7ec13",
   "metadata": {},
   "outputs": [],
   "source": [
    "import pandas as pd"
   ]
  },
  {
   "cell_type": "code",
   "execution_count": 17,
   "id": "43aa993d-2cb1-4f5a-9339-437eb2bf3228",
   "metadata": {},
   "outputs": [],
   "source": [
    "data=pd.read_csv(\"C:/Users/SAMRAJ/Downloads/Cognifyz Dataset.csv\")"
   ]
  },
  {
   "cell_type": "code",
   "execution_count": 19,
   "id": "47b52331-eaba-479a-b2bd-74066065e196",
   "metadata": {},
   "outputs": [
    {
     "data": {
      "text/plain": [
       "Index(['Restaurant ID', 'Restaurant Name', 'Country Code', 'City', 'Address',\n",
       "       'Locality', 'Locality Verbose', 'Longitude', 'Latitude', 'Cuisines',\n",
       "       'Average Cost for two', 'Currency', 'Has Table booking',\n",
       "       'Has Online delivery', 'Is delivering now', 'Switch to order menu',\n",
       "       'Price range', 'Aggregate rating', 'Rating color', 'Rating text',\n",
       "       'Votes'],\n",
       "      dtype='object')"
      ]
     },
     "execution_count": 19,
     "metadata": {},
     "output_type": "execute_result"
    }
   ],
   "source": [
    "data.columns"
   ]
  },
  {
   "cell_type": "code",
   "execution_count": 21,
   "id": "e06bc3b9-582c-4a4c-ad9f-05b61fab972c",
   "metadata": {},
   "outputs": [
    {
     "name": "stdout",
     "output_type": "stream",
     "text": [
      "Cuisines\n",
      "North Indian                      936\n",
      "North Indian, Chinese             511\n",
      "Chinese                           354\n",
      "Fast Food                         354\n",
      "North Indian, Mughlai             334\n",
      "Cafe                              299\n",
      "Bakery                            218\n",
      "North Indian, Mughlai, Chinese    197\n",
      "Bakery, Desserts                  170\n",
      "Street Food                       149\n",
      "Name: count, dtype: int64 \n",
      "\n",
      " Top 3 cuisines combination\n",
      " North Indian, Chinese \n",
      " North Indian, Mughlai \n",
      " North Indian, Mughlai, Chinese\n"
     ]
    }
   ],
   "source": [
    "#1 the most common cuisines in the dataset.\n",
    "cuisines_count = data['Cuisines'].value_counts()\n",
    "\n",
    "# top 10 cuisines \n",
    "top_cuisines = cuisines_count.head(10)\n",
    "print(top_cuisines,'\\n')\n",
    "\n",
    "print(' Top 3 cuisines combination')\n",
    "print(' North Indian, Chinese','\\n','North Indian, Mughlai','\\n','North Indian, Mughlai, Chinese')"
   ]
  },
  {
   "cell_type": "code",
   "execution_count": 28,
   "id": "c672cf98-6095-47a2-9bab-c68b20a63737",
   "metadata": {},
   "outputs": [
    {
     "name": "stdout",
     "output_type": "stream",
     "text": [
      "Most common cuisine combinations:\n",
      "Cuisines\n",
      "North Indian    3960\n",
      "Chinese         2735\n",
      "Fast Food       1986\n",
      "Mughlai          995\n",
      "Italian          764\n",
      "Bakery           745\n",
      "Continental      736\n",
      "Cafe             703\n",
      "Desserts         653\n",
      "South Indian     636\n",
      "Name: Cuisines, dtype: int64\n",
      "\n",
      "Cuisine combinations with highest average ratings:\n",
      "Cuisines\n",
      "Sunda         4.900000\n",
      "B�_rek        4.700000\n",
      "Taiwanese     4.650000\n",
      "Ramen         4.500000\n",
      "Dim Sum       4.466667\n",
      "Hawaiian      4.412500\n",
      "D�_ner        4.400000\n",
      "Bubble Tea    4.400000\n",
      "Curry         4.400000\n",
      "Kebab         4.380000\n",
      "Name: Aggregate rating, dtype: float64\n",
      "\n",
      "Combined data (count and average rating):\n",
      "              Count  Average Rating\n",
      "Cuisines                           \n",
      "North Indian   3960        2.510455\n",
      "Chinese        2735        2.621024\n",
      "Fast Food      1986        2.563092\n",
      "Mughlai         995        2.609950\n",
      "Italian         764        3.562042\n",
      "Bakery          745        2.440940\n",
      "Continental     736        3.518750\n",
      "Cafe            703        3.321195\n",
      "Desserts        653        2.978867\n",
      "South Indian    636        2.469811\n"
     ]
    }
   ],
   "source": [
    "def analyze_cuisine_combinations(df):\n",
    "    \"\"\"\n",
    "    Identifies the most common cuisine combinations and analyzes their impact on ratings.\n",
    "\n",
    "    Args:\n",
    "        df (pd.DataFrame): The input DataFrame containing restaurant data.\n",
    "\n",
    "    Returns:\n",
    "        None\n",
    "    \"\"\"\n",
    "\n",
    "    # Preprocess the 'Cuisines' column\n",
    "    df['Cuisines'] = df['Cuisines'].str.split(', ')\n",
    "\n",
    "    # Create a new DataFrame with exploded cuisine combinations\n",
    "    cuisine_combinations = df.explode('Cuisines')\n",
    "\n",
    "    # Count the frequency of each cuisine combination\n",
    "    cuisine_counts = cuisine_combinations.groupby('Cuisines')['Cuisines'].count().sort_values(ascending=False)\n",
    "\n",
    "    print(\"Most common cuisine combinations:\")\n",
    "    print(cuisine_counts.head(10))\n",
    "\n",
    "    # Calculate average rating for each cuisine combination\n",
    "    average_ratings = cuisine_combinations.groupby('Cuisines')['Aggregate rating'].mean().sort_values(ascending=False)\n",
    "\n",
    "    print(\"\\nCuisine combinations with highest average ratings:\")\n",
    "    print(average_ratings.head(10))\n",
    "\n",
    "    # Further analysis can be done by comparing the two DataFrames, e.g., finding combinations that are both common and have high ratings\n",
    "    combined_data = pd.concat([cuisine_counts, average_ratings], axis=1, join='inner')\n",
    "    combined_data.columns = ['Count', 'Average Rating']\n",
    "    print(\"\\nCombined data (count and average rating):\")\n",
    "    print(combined_data.head(10))\n",
    "\n",
    "if __name__ == \"__main__\":\n",
    "    # Replace 'your_data.csv' with the actual path to your dataset\n",
    "    df = pd.read_csv(\"C:/Users/SAMRAJ/Downloads/Cognifyz Dataset.csv\")\n",
    "    analyze_cuisine_combinations(df)"
   ]
  },
  {
   "cell_type": "code",
   "execution_count": 30,
   "id": "fd862ed5-d5c9-4fd0-9deb-97a3dd39b55a",
   "metadata": {},
   "outputs": [],
   "source": [
    "# Top three cuisines combination with average rating\n",
    "\n",
    "# North Indian, Chinese Average \n",
    "# North Indian, Mughlai Average\n",
    "# North Indian, Mughlai, Chinese Average"
   ]
  }
 ],
 "metadata": {
  "kernelspec": {
   "display_name": "Python 3 (ipykernel)",
   "language": "python",
   "name": "python3"
  },
  "language_info": {
   "codemirror_mode": {
    "name": "ipython",
    "version": 3
   },
   "file_extension": ".py",
   "mimetype": "text/x-python",
   "name": "python",
   "nbconvert_exporter": "python",
   "pygments_lexer": "ipython3",
   "version": "3.12.4"
  }
 },
 "nbformat": 4,
 "nbformat_minor": 5
}
